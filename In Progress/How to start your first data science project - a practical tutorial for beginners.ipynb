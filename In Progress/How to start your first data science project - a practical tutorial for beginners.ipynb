{
 "cells": [
  {
   "cell_type": "markdown",
   "metadata": {},
   "source": [
    "# How to start your first data science project - a practical tutorial for beginners\n",
    "                                  Data science for everyone series (1)\n",
    "------\n",
    "\n",
    "                                        Author: Juan L. Kehoe\n",
    "------\n",
    "## Introduction\n",
    "------\n",
    "I'm sure everyone on the Internet is flooded by data science and artificial intelligence in recent years. Some of you might be attracted by the sexiest job of the 21st Century - Data Scientist, and want to become one. You google \"how to become a data scientist\" and will find tons of blog posts and articles. From the first page of the search result, you open some links and read them. You will find all of them are pretty good, with details of what a data scientist is, what kind of background do they need etal. Then things like linear algebra, probability, statistics, Python, R, machine learning, domain knowledge are all over you. You might be scared by how many things you will need to learn before you become a Data Scientist and you want to walk away. To be fair, all those requirments listed above are almost equivalent to the curriculum for a Ph.D. in Data Science. For a beginner, you are like a elementary school student trying to know something about Data Science, you don't need those Ph.D. curriculum to scare you. Here, I'm going to show you another way to look at it. Just like to show you how to become a chef, I'm not going to list all the skills and background that you need to become a Iron Chef which might be your ultimate goal. But I'm going to show you a simple recipe so you can just mix some ingredients together, do some very easy preparation and then put the dish in the oven and 'poof' you will have your first experience as a chef. After you finish experiencing this magic, you can decide if you enjoy the process or not. If yes, you can continue to learn more and more. Afterall, Rome is not built in one day. You can start small and then you have the chance to grow big. Similiarly, I'm going to show you how to finish a very simple data science project and you can go along with it, type in some codes, view the pictures and look at the results. Have fun. Hope you enjoy it."
   ]
  },
  {
   "cell_type": "markdown",
   "metadata": {},
   "source": [
    "## Python and yellowbrick installation\n",
    "------\n",
    "Although you don't need to know how to program yet, you will still need a programming language to finish the project. If you are a chef, programming languages are the pots and pans and other stuff you need to cook. Here we are going to use Python and the yellowbrick package. \n",
    "You can check the following link to see why use Python and yellowbrick for our project:\n",
    "Before you use Python yellowbrick, you will need to install them on your computer first. The following links will show you how to install them on different operating systems: \n"
   ]
  },
  {
   "cell_type": "markdown",
   "metadata": {},
   "source": [
    "## Case study: who were more likely to survive - prediction from the Titanic dataset from Kaggle.com\n",
    "------\n",
    " "
   ]
  }
 ],
 "metadata": {
  "kernelspec": {
   "display_name": "Python 3",
   "language": "python",
   "name": "python3"
  },
  "language_info": {
   "codemirror_mode": {
    "name": "ipython",
    "version": 3
   },
   "file_extension": ".py",
   "mimetype": "text/x-python",
   "name": "python",
   "nbconvert_exporter": "python",
   "pygments_lexer": "ipython3",
   "version": "3.6.4"
  }
 },
 "nbformat": 4,
 "nbformat_minor": 2
}
